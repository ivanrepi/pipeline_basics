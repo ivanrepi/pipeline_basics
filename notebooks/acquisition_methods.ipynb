{
 "cells": [
  {
   "cell_type": "markdown",
   "id": "593a1ac6",
   "metadata": {},
   "source": [
    "## Acquisition methods"
   ]
  },
  {
   "cell_type": "code",
   "execution_count": 23,
   "id": "39d469bc",
   "metadata": {},
   "outputs": [],
   "source": [
    "import pandas as pd"
   ]
  },
  {
   "cell_type": "code",
   "execution_count": 24,
   "id": "dc273f16",
   "metadata": {},
   "outputs": [],
   "source": [
    "def acquisition(path_file):\n",
    "    dataframe = pd.read_csv(path_file)\n",
    "    return dataframe"
   ]
  },
  {
   "cell_type": "code",
   "execution_count": 26,
   "id": "18617533",
   "metadata": {
    "scrolled": true
   },
   "outputs": [
    {
     "name": "stderr",
     "output_type": "stream",
     "text": [
      "C:\\Users\\Usuario\\.conda\\envs\\ironhack\\lib\\site-packages\\ipykernel_launcher.py:1: DtypeWarning: Columns (73) have mixed types.Specify dtype option on import or set low_memory=False.\n",
      "  \"\"\"Entry point for launching an IPython kernel.\n"
     ]
    }
   ],
   "source": [
    "var = acquisition('../../datasets/vehicles.csv')"
   ]
  },
  {
   "cell_type": "code",
   "execution_count": 28,
   "id": "af18c50e",
   "metadata": {},
   "outputs": [
    {
     "data": {
      "text/plain": [
       "pandas.core.frame.DataFrame"
      ]
     },
     "execution_count": 28,
     "metadata": {},
     "output_type": "execute_result"
    }
   ],
   "source": [
    "type(var)"
   ]
  },
  {
   "cell_type": "code",
   "execution_count": 30,
   "id": "6d6dbbcf",
   "metadata": {},
   "outputs": [
    {
     "name": "stdout",
     "output_type": "stream",
     "text": [
      "<class 'pandas.core.frame.DataFrame'>\n",
      "RangeIndex: 25479 entries, 0 to 25478\n",
      "Data columns (total 83 columns):\n",
      " #   Column           Non-Null Count  Dtype  \n",
      "---  ------           --------------  -----  \n",
      " 0   barrels08        25479 non-null  float64\n",
      " 1   barrelsA08       25479 non-null  float64\n",
      " 2   charge120        25479 non-null  float64\n",
      " 3   charge240        25479 non-null  float64\n",
      " 4   city08           25479 non-null  int64  \n",
      " 5   city08U          25479 non-null  float64\n",
      " 6   cityA08          25479 non-null  int64  \n",
      " 7   cityA08U         25479 non-null  float64\n",
      " 8   cityCD           25479 non-null  float64\n",
      " 9   cityE            25479 non-null  float64\n",
      " 10  cityUF           25479 non-null  float64\n",
      " 11  co2              25479 non-null  int64  \n",
      " 12  co2A             25479 non-null  int64  \n",
      " 13  co2TailpipeAGpm  25479 non-null  float64\n",
      " 14  co2TailpipeGpm   25479 non-null  float64\n",
      " 15  comb08           25479 non-null  int64  \n",
      " 16  comb08U          25479 non-null  float64\n",
      " 17  combA08          25479 non-null  int64  \n",
      " 18  combA08U         25479 non-null  float64\n",
      " 19  combE            25479 non-null  float64\n",
      " 20  combinedCD       25479 non-null  float64\n",
      " 21  combinedUF       25479 non-null  float64\n",
      " 22  cylinders        25441 non-null  float64\n",
      " 23  displ            25442 non-null  float64\n",
      " 24  drive            24290 non-null  object \n",
      " 25  engId            25479 non-null  int64  \n",
      " 26  eng_dscr         12167 non-null  object \n",
      " 27  feScore          25479 non-null  int64  \n",
      " 28  fuelCost08       25479 non-null  int64  \n",
      " 29  fuelCostA08      25479 non-null  int64  \n",
      " 30  fuelType         25479 non-null  object \n",
      " 31  fuelType1        25479 non-null  object \n",
      " 32  ghgScore         25479 non-null  int64  \n",
      " 33  ghgScoreA        25479 non-null  int64  \n",
      " 34  highway08        25479 non-null  int64  \n",
      " 35  highway08U       25479 non-null  float64\n",
      " 36  highwayA08       25479 non-null  int64  \n",
      " 37  highwayA08U      25479 non-null  float64\n",
      " 38  highwayCD        25479 non-null  float64\n",
      " 39  highwayE         25479 non-null  float64\n",
      " 40  highwayUF        25479 non-null  float64\n",
      " 41  hlv              25479 non-null  int64  \n",
      " 42  hpv              25479 non-null  int64  \n",
      " 43  id               25479 non-null  int64  \n",
      " 44  lv2              25479 non-null  int64  \n",
      " 45  lv4              25479 non-null  int64  \n",
      " 46  make             25479 non-null  object \n",
      " 47  model            25479 non-null  object \n",
      " 48  mpgData          25479 non-null  object \n",
      " 49  phevBlended      25479 non-null  bool   \n",
      " 50  pv2              25479 non-null  int64  \n",
      " 51  pv4              25479 non-null  int64  \n",
      " 52  range            25479 non-null  int64  \n",
      " 53  rangeCity        25479 non-null  float64\n",
      " 54  rangeCityA       25479 non-null  float64\n",
      " 55  rangeHwy         25479 non-null  float64\n",
      " 56  rangeHwyA        25479 non-null  float64\n",
      " 57  trany            25468 non-null  object \n",
      " 58  UCity            25479 non-null  float64\n",
      " 59  UCityA           25479 non-null  float64\n",
      " 60  UHighway         25479 non-null  float64\n",
      " 61  UHighwayA        25479 non-null  float64\n",
      " 62  VClass           25479 non-null  object \n",
      " 63  year             25479 non-null  int64  \n",
      " 64  youSaveSpend     25479 non-null  int64  \n",
      " 65  guzzler          1583 non-null   object \n",
      " 66  trans_dscr       12001 non-null  object \n",
      " 67  tCharger         2791 non-null   object \n",
      " 68  sCharger         411 non-null    object \n",
      " 69  atvType          1936 non-null   object \n",
      " 70  fuelType2        963 non-null    object \n",
      " 71  rangeA           958 non-null    object \n",
      " 72  evMotor          239 non-null    object \n",
      " 73  mfrCode          2082 non-null   object \n",
      " 74  c240Dscr         0 non-null      float64\n",
      " 75  charge240b       25479 non-null  float64\n",
      " 76  c240bDscr        0 non-null      float64\n",
      " 77  createdOn        25479 non-null  object \n",
      " 78  modifiedOn       25479 non-null  object \n",
      " 79  startStop        1202 non-null   object \n",
      " 80  phevCity         25478 non-null  float64\n",
      " 81  phevHwy          25478 non-null  float64\n",
      " 82  phevComb         25478 non-null  float64\n",
      "dtypes: bool(1), float64(37), int64(24), object(21)\n",
      "memory usage: 16.0+ MB\n"
     ]
    }
   ],
   "source": [
    "var.info()"
   ]
  },
  {
   "cell_type": "code",
   "execution_count": null,
   "id": "94da6634",
   "metadata": {},
   "outputs": [],
   "source": [
    "pipelines_basics         datasets\n",
    "notebooks                vehicles.csv\n",
    "acquisiton_methods.ipynb"
   ]
  }
 ],
 "metadata": {
  "kernelspec": {
   "display_name": "Python [conda env:.conda-ironhack]",
   "language": "python",
   "name": "conda-env-.conda-ironhack-py"
  },
  "language_info": {
   "codemirror_mode": {
    "name": "ipython",
    "version": 3
   },
   "file_extension": ".py",
   "mimetype": "text/x-python",
   "name": "python",
   "nbconvert_exporter": "python",
   "pygments_lexer": "ipython3",
   "version": "3.7.11"
  }
 },
 "nbformat": 4,
 "nbformat_minor": 5
}
