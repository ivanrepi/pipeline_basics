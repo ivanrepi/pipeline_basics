{
 "cells": [
  {
   "cell_type": "markdown",
   "id": "9aa00de4",
   "metadata": {},
   "source": [
    "## Wrangling methods"
   ]
  },
  {
   "cell_type": "code",
   "execution_count": 1,
   "id": "a64e4528",
   "metadata": {},
   "outputs": [],
   "source": [
    "import pandas as pd"
   ]
  },
  {
   "cell_type": "code",
   "execution_count": 21,
   "id": "0571bb5e",
   "metadata": {},
   "outputs": [],
   "source": [
    "def wrangling(df, year, col):\n",
    "    df = df[df[col].isin(year)]\n",
    "    return df"
   ]
  },
  {
   "cell_type": "code",
   "execution_count": null,
   "id": "0e89d144",
   "metadata": {},
   "outputs": [],
   "source": [
    "df['columna_booleana']"
   ]
  },
  {
   "cell_type": "code",
   "execution_count": 14,
   "id": "65045826",
   "metadata": {},
   "outputs": [],
   "source": [
    "dataframe_pruebas = pd.read_csv('../../datasets/vehicles.csv', low_memory=False)"
   ]
  },
  {
   "cell_type": "code",
   "execution_count": 18,
   "id": "ef64d24e",
   "metadata": {},
   "outputs": [
    {
     "data": {
      "text/plain": [
       "array([1985, 1993, 1994, 1995, 1996, 1997, 1998, 1999, 2000, 2001, 1986,\n",
       "       2002, 2003, 2004, 2005, 2006, 2007, 2008, 2009, 2010, 1984, 1987,\n",
       "       1988, 1989, 1990, 1991, 1992, 2011, 2012, 2013], dtype=int64)"
      ]
     },
     "execution_count": 18,
     "metadata": {},
     "output_type": "execute_result"
    }
   ],
   "source": [
    "dataframe_pruebas['year'].unique()"
   ]
  },
  {
   "cell_type": "code",
   "execution_count": 22,
   "id": "de38bcd6",
   "metadata": {},
   "outputs": [],
   "source": [
    "var = wrangling(dataframe_pruebas, [1985,1999], 'year')"
   ]
  },
  {
   "cell_type": "code",
   "execution_count": 23,
   "id": "e1ce5271",
   "metadata": {},
   "outputs": [
    {
     "data": {
      "text/plain": [
       "array([1985, 1999], dtype=int64)"
      ]
     },
     "execution_count": 23,
     "metadata": {},
     "output_type": "execute_result"
    }
   ],
   "source": [
    "var['year'].unique()"
   ]
  },
  {
   "cell_type": "code",
   "execution_count": null,
   "id": "d3972f20",
   "metadata": {},
   "outputs": [],
   "source": []
  }
 ],
 "metadata": {
  "kernelspec": {
   "display_name": "Python [conda env:.conda-ironhack]",
   "language": "python",
   "name": "conda-env-.conda-ironhack-py"
  },
  "language_info": {
   "codemirror_mode": {
    "name": "ipython",
    "version": 3
   },
   "file_extension": ".py",
   "mimetype": "text/x-python",
   "name": "python",
   "nbconvert_exporter": "python",
   "pygments_lexer": "ipython3",
   "version": "3.7.11"
  }
 },
 "nbformat": 4,
 "nbformat_minor": 5
}
