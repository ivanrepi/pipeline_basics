{
 "cells": [
  {
   "cell_type": "markdown",
   "id": "593a1ac6",
   "metadata": {},
   "source": [
    "## Acquisition methods"
   ]
  },
  {
   "cell_type": "code",
   "execution_count": 1,
   "id": "10447828",
   "metadata": {},
   "outputs": [],
   "source": [
    "def count_deaf_rats(town):\n",
    "    return town.replace(' ', '')[::2].count('O')"
   ]
  },
  {
   "cell_type": "code",
   "execution_count": 2,
   "id": "8d58ee8f",
   "metadata": {},
   "outputs": [
    {
     "data": {
      "text/plain": [
       "0"
      ]
     },
     "execution_count": 2,
     "metadata": {},
     "output_type": "execute_result"
    }
   ],
   "source": [
    "count_deaf_rats(\"~O~O~O~O P\")"
   ]
  },
  {
   "cell_type": "code",
   "execution_count": 4,
   "id": "c0497461",
   "metadata": {},
   "outputs": [
    {
     "data": {
      "text/plain": [
       "'~~~~P'"
      ]
     },
     "execution_count": 4,
     "metadata": {},
     "output_type": "execute_result"
    }
   ],
   "source": [
    "string = \"~O~O~O~O P\"\n",
    "string = string.replace(' ', '')\n",
    "string[::2]"
   ]
  },
  {
   "cell_type": "code",
   "execution_count": null,
   "id": "f4d4036d",
   "metadata": {},
   "outputs": [],
   "source": []
  }
 ],
 "metadata": {
  "kernelspec": {
   "display_name": "Python [conda env:.conda-ironhack]",
   "language": "python",
   "name": "conda-env-.conda-ironhack-py"
  },
  "language_info": {
   "codemirror_mode": {
    "name": "ipython",
    "version": 3
   },
   "file_extension": ".py",
   "mimetype": "text/x-python",
   "name": "python",
   "nbconvert_exporter": "python",
   "pygments_lexer": "ipython3",
   "version": "3.7.11"
  }
 },
 "nbformat": 4,
 "nbformat_minor": 5
}
