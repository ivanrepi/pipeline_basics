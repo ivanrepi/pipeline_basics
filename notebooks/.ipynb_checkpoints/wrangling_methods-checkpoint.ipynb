{
 "cells": [
  {
   "cell_type": "markdown",
   "id": "9aa00de4",
   "metadata": {},
   "source": [
    "## Wrangling methods"
   ]
  },
  {
   "cell_type": "code",
   "execution_count": 1,
   "id": "a64e4528",
   "metadata": {},
   "outputs": [],
   "source": [
    "import pandas as pd"
   ]
  },
  {
   "cell_type": "code",
   "execution_count": null,
   "id": "5ae296ef",
   "metadata": {},
   "outputs": [],
   "source": [
    "def wrangling(df, year):\n",
    "    "
   ]
  }
 ],
 "metadata": {
  "kernelspec": {
   "display_name": "Python [conda env:.conda-ironhack]",
   "language": "python",
   "name": "conda-env-.conda-ironhack-py"
  },
  "language_info": {
   "codemirror_mode": {
    "name": "ipython",
    "version": 3
   },
   "file_extension": ".py",
   "mimetype": "text/x-python",
   "name": "python",
   "nbconvert_exporter": "python",
   "pygments_lexer": "ipython3",
   "version": "3.7.11"
  }
 },
 "nbformat": 4,
 "nbformat_minor": 5
}
