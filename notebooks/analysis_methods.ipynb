{
 "cells": [
  {
   "cell_type": "markdown",
   "id": "32b1ca48",
   "metadata": {},
   "source": [
    "## Analysis methods"
   ]
  },
  {
   "cell_type": "code",
   "execution_count": 1,
   "id": "b2c6a5f5",
   "metadata": {},
   "outputs": [],
   "source": [
    "import pandas as pd\n",
    "import numpy as np"
   ]
  },
  {
   "cell_type": "code",
   "execution_count": 7,
   "id": "228e9084",
   "metadata": {},
   "outputs": [],
   "source": [
    "def analysis(df, groupby_col, agg_col):\n",
    "    df = df.groupby([groupby_col])[agg_col].agg(np.sum)\n",
    "    df.to_csv('../data/vehicles.csv')\n",
    "    message = '/---------PIPELINE SUCCESSFULY EXECUTED--------/'\n",
    "    return message"
   ]
  },
  {
   "cell_type": "code",
   "execution_count": 3,
   "id": "65dd2aa8",
   "metadata": {},
   "outputs": [],
   "source": [
    "test_df = pd.read_csv('../../datasets/vehicles.csv', low_memory=False)"
   ]
  },
  {
   "cell_type": "code",
   "execution_count": 4,
   "id": "9ea1ffd1",
   "metadata": {},
   "outputs": [],
   "source": [
    "def wrangling(df, year, col):\n",
    "    df = df[df[col].isin(year)]\n",
    "    return df"
   ]
  },
  {
   "cell_type": "code",
   "execution_count": 5,
   "id": "e5a0311d",
   "metadata": {},
   "outputs": [],
   "source": [
    "test_df = wrangling(test_df, [1985,1999], 'year')"
   ]
  },
  {
   "cell_type": "code",
   "execution_count": 8,
   "id": "f8c57ce0",
   "metadata": {},
   "outputs": [
    {
     "data": {
      "text/plain": [
       "year\n",
       "1985   -961\n",
       "1999   -845\n",
       "Name: co2, dtype: int64"
      ]
     },
     "execution_count": 8,
     "metadata": {},
     "output_type": "execute_result"
    }
   ],
   "source": [
    "analysis(test_df, 'year', 'co2')"
   ]
  },
  {
   "cell_type": "code",
   "execution_count": 9,
   "id": "2df29a04",
   "metadata": {},
   "outputs": [
    {
     "data": {
      "text/plain": [
       "array([-1,  0], dtype=int64)"
      ]
     },
     "execution_count": 9,
     "metadata": {},
     "output_type": "execute_result"
    }
   ],
   "source": [
    "test_df['co2'].unique()"
   ]
  },
  {
   "cell_type": "code",
   "execution_count": 10,
   "id": "df8c65fd",
   "metadata": {},
   "outputs": [
    {
     "data": {
      "text/plain": [
       "0       -1\n",
       "1       -1\n",
       "2       -1\n",
       "3       -1\n",
       "14      -1\n",
       "        ..\n",
       "25052   -1\n",
       "25163   -1\n",
       "25274   -1\n",
       "25275   -1\n",
       "25386   -1\n",
       "Name: co2, Length: 1813, dtype: int64"
      ]
     },
     "execution_count": 10,
     "metadata": {},
     "output_type": "execute_result"
    }
   ],
   "source": [
    "test_df['co2']"
   ]
  },
  {
   "cell_type": "code",
   "execution_count": null,
   "id": "be7f2fca",
   "metadata": {},
   "outputs": [],
   "source": []
  }
 ],
 "metadata": {
  "kernelspec": {
   "display_name": "Python [conda env:.conda-ironhack]",
   "language": "python",
   "name": "conda-env-.conda-ironhack-py"
  },
  "language_info": {
   "codemirror_mode": {
    "name": "ipython",
    "version": 3
   },
   "file_extension": ".py",
   "mimetype": "text/x-python",
   "name": "python",
   "nbconvert_exporter": "python",
   "pygments_lexer": "ipython3",
   "version": "3.7.11"
  }
 },
 "nbformat": 4,
 "nbformat_minor": 5
}
